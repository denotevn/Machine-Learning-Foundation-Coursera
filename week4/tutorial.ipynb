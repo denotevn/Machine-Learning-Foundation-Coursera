{
 "cells": [
  {
   "cell_type": "markdown",
   "metadata": {},
   "source": [
    "## **Theory**\n",
    "+ TF-IDF (thuật ngữ tần số nghịch đảo tần suất tài liệu) là một thước đo thống kê đánh giá mức độ liên quan của một từ với một tài liệu trong một bộ sưu tập tài liệu.\n",
    "+ Điều này được thực hiện bằng cách nhân hai số liệu: số lần một từ xuất hiện trong tài liệu và tần suất nghịch đảo của từ trong một tập hợp tài liệu.\n",
    "+ Nó có nhiều công dụng, quan trọng nhất là trong phân tích văn bản tự động và rất hữu ích để cho điểm các từ trong thuật toán máy học để Xử lý ngôn ngữ tự nhiên (NLP)Hạn chế\n",
    "+ Hạn chế chính của TF IDF là thứ tự từ là một phần quan trọng để hiểu ý nghĩa của một câu không được xem xét trong TF-IDF. Ngoài ra, độ dài tài liệu có thể tạo ra nhiều phương sai trong các giá trị TF IDF.\n",
    "\n",
    "> More in formation in this link: **[TF-IDF](https://monkeylearn.com/blog/what-is-tf-idf/)**"
   ]
  },
  {
   "cell_type": "markdown",
   "metadata": {},
   "source": [
    "## **Làm thế nào để tạo đề xuất, giống như kiểu đề xuất các tờ báo có kiên quan được tốt hơn.**\n",
    "+ Sư dụng TF-IDF\n",
    "+ Nhóm các tài liệu theo chủ đề. Như vậy việc tìm kiếm các dữ liệu liên quan sẽ được thực hiện nhanh chóng hơn (VD : sports, music, book , ...)\n",
    "> **==>> Bài toán phân loại đa lớp cho các loại dữ liệu** \n",
    ">+ clustering in Machine Learning: Để nhóm các tài liệu theo chủ đề mà không có label sẵn (unsupervised learning)\n",
    "## Cách hoạt động của thuật toán K-mean\n",
    "+ Để xử lý dữ liệu học tập, thuật toán K-mean trong khai thác dữ liệu bắt đầu với một nhóm đầu tiên gồm các trung tâm được chọn ngẫu nhiên, được sử dụng làm điểm đầu cho mọi cụm và sau đó thực hiện các phép tính lặp đi lặp lại (lặp đi lặp lại) để tối ưu hóa vị trí của các trung tâm\n",
    "+ Nó tạm dừng tạo và tối ưu hóa các cụm khi:\n",
    "    + Các centroid đã ổn định - không có sự thay đổi về giá trị của chúng bởi vì việc phân nhóm đã thành công.\n",
    "    + Đã đạt được số lần lặp xác định."
   ]
  },
  {
   "cell_type": "markdown",
   "metadata": {},
   "source": []
  },
  {
   "cell_type": "code",
   "execution_count": 1,
   "metadata": {},
   "outputs": [],
   "source": [
    "corpus =  [\"you were born with potential\",\n",
    "\"you were born with goodness and trust\",\n",
    "\"you were born with ideals and dreams\",\n",
    "\"you were born with greatness\",\n",
    "\"you were born with wings\",\n",
    "\"you are not meant for crawling, so don't\",\n",
    "\"you have wings\",\n",
    "\"learn to use them and fly\"\n",
    "]"
   ]
  },
  {
   "cell_type": "code",
   "execution_count": 2,
   "metadata": {},
   "outputs": [
    {
     "name": "stderr",
     "output_type": "stream",
     "text": [
      "/home/tuandinh/Desktop/Machine Learning Foundations Coursera/envML/lib/python3.8/site-packages/sklearn/utils/deprecation.py:87: FutureWarning: Function get_feature_names is deprecated; get_feature_names is deprecated in 1.0 and will be removed in 1.2. Please use get_feature_names_out instead.\n",
      "  warnings.warn(msg, category=FutureWarning)\n"
     ]
    }
   ],
   "source": [
    "#transform the tf idf vectorizer\n",
    "from sklearn.feature_extraction.text import TfidfVectorizer\n",
    "tf_idf_vect = TfidfVectorizer()\n",
    "X_train_tf_idf = tf_idf_vect.fit_transform(corpus)\n",
    "terms = tf_idf_vect.get_feature_names()"
   ]
  },
  {
   "cell_type": "code",
   "execution_count": 3,
   "metadata": {},
   "outputs": [
    {
     "data": {
      "text/plain": [
       "['and',\n",
       " 'are',\n",
       " 'born',\n",
       " 'crawling',\n",
       " 'don',\n",
       " 'dreams',\n",
       " 'fly',\n",
       " 'for',\n",
       " 'goodness',\n",
       " 'greatness',\n",
       " 'have',\n",
       " 'ideals',\n",
       " 'learn',\n",
       " 'meant',\n",
       " 'not',\n",
       " 'potential',\n",
       " 'so',\n",
       " 'them',\n",
       " 'to',\n",
       " 'trust',\n",
       " 'use',\n",
       " 'were',\n",
       " 'wings',\n",
       " 'with',\n",
       " 'you']"
      ]
     },
     "execution_count": 3,
     "metadata": {},
     "output_type": "execute_result"
    }
   ],
   "source": [
    "terms"
   ]
  },
  {
   "cell_type": "code",
   "execution_count": null,
   "metadata": {},
   "outputs": [],
   "source": []
  }
 ],
 "metadata": {
  "kernelspec": {
   "display_name": "Python 3.8.10 ('envML': venv)",
   "language": "python",
   "name": "python3"
  },
  "language_info": {
   "codemirror_mode": {
    "name": "ipython",
    "version": 3
   },
   "file_extension": ".py",
   "mimetype": "text/x-python",
   "name": "python",
   "nbconvert_exporter": "python",
   "pygments_lexer": "ipython3",
   "version": "3.8.10"
  },
  "orig_nbformat": 4,
  "vscode": {
   "interpreter": {
    "hash": "155f8c11c2bf35ec184c6706c48f2230e609f3cdff25650c6adec2830a9e299b"
   }
  }
 },
 "nbformat": 4,
 "nbformat_minor": 2
}
